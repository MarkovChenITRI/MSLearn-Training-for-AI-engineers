{
 "cells": [
  {
   "cell_type": "markdown",
   "id": "a90803a0-d1fd-49f4-a10d-1a6f5413b1a6",
   "metadata": {},
   "source": [
    "# Create a Speech-Enabled Apps with Azure AI Services"
   ]
  },
  {
   "cell_type": "markdown",
   "id": "590737ae-83e4-469b-ba10-04f2eca12db4",
   "metadata": {},
   "source": [
    "### Text Analysis"
   ]
  },
  {
   "cell_type": "markdown",
   "id": "756d92e6-e727-40b3-83f2-03fc918ec55b",
   "metadata": {},
   "source": [
    "#### Step1. Build **AI Language** and get the API Keys and Endpoint of it from Azure portal."
   ]
  },
  {
   "cell_type": "code",
   "execution_count": 1,
   "id": "4534dcde-0ed1-4cd6-bebc-6d6f4f67285c",
   "metadata": {},
   "outputs": [],
   "source": [
    "LANGUAGE_AI_KEY = 'bf2f2efce0a84c0ab3032afd10e20b97'\n",
    "LANGUAGE_AI_ENDPOINT = 'https://mslearn-ais-language.cognitiveservices.azure.com/'"
   ]
  },
  {
   "cell_type": "markdown",
   "id": "d51d5239-7c80-4228-8106-f4f2076e1a63",
   "metadata": {},
   "source": [
    "#### Step2. Build a Text Analytics Client"
   ]
  },
  {
   "cell_type": "code",
   "execution_count": 2,
   "id": "edb9be3c-71ab-435e-b91d-077f13b9ad3a",
   "metadata": {
    "scrolled": true
   },
   "outputs": [
    {
     "name": "stdout",
     "output_type": "stream",
     "text": [
      "Defaulting to user installation because normal site-packages is not writeable\n",
      "Requirement already satisfied: azure-ai-textanalytics==5.3.0 in c:\\users\\a0973\\appdata\\local\\packages\\pythonsoftwarefoundation.python.3.12_qbz5n2kfra8p0\\localcache\\local-packages\\python312\\site-packages (5.3.0)\n",
      "Requirement already satisfied: azure-core<2.0.0,>=1.24.0 in c:\\users\\a0973\\appdata\\local\\packages\\pythonsoftwarefoundation.python.3.12_qbz5n2kfra8p0\\localcache\\local-packages\\python312\\site-packages (from azure-ai-textanalytics==5.3.0) (1.31.0)\n",
      "Requirement already satisfied: azure-common~=1.1 in c:\\users\\a0973\\appdata\\local\\packages\\pythonsoftwarefoundation.python.3.12_qbz5n2kfra8p0\\localcache\\local-packages\\python312\\site-packages (from azure-ai-textanalytics==5.3.0) (1.1.28)\n",
      "Requirement already satisfied: isodate<1.0.0,>=0.6.1 in c:\\users\\a0973\\appdata\\local\\packages\\pythonsoftwarefoundation.python.3.12_qbz5n2kfra8p0\\localcache\\local-packages\\python312\\site-packages (from azure-ai-textanalytics==5.3.0) (0.6.1)\n",
      "Requirement already satisfied: typing-extensions>=4.0.1 in c:\\users\\a0973\\appdata\\local\\packages\\pythonsoftwarefoundation.python.3.12_qbz5n2kfra8p0\\localcache\\local-packages\\python312\\site-packages (from azure-ai-textanalytics==5.3.0) (4.9.0)\n",
      "Requirement already satisfied: requests>=2.21.0 in c:\\users\\a0973\\appdata\\local\\packages\\pythonsoftwarefoundation.python.3.12_qbz5n2kfra8p0\\localcache\\local-packages\\python312\\site-packages (from azure-core<2.0.0,>=1.24.0->azure-ai-textanalytics==5.3.0) (2.32.3)\n",
      "Requirement already satisfied: six>=1.11.0 in c:\\users\\a0973\\appdata\\local\\packages\\pythonsoftwarefoundation.python.3.12_qbz5n2kfra8p0\\localcache\\local-packages\\python312\\site-packages (from azure-core<2.0.0,>=1.24.0->azure-ai-textanalytics==5.3.0) (1.16.0)\n",
      "Requirement already satisfied: charset-normalizer<4,>=2 in c:\\users\\a0973\\appdata\\local\\packages\\pythonsoftwarefoundation.python.3.12_qbz5n2kfra8p0\\localcache\\local-packages\\python312\\site-packages (from requests>=2.21.0->azure-core<2.0.0,>=1.24.0->azure-ai-textanalytics==5.3.0) (3.3.2)\n",
      "Requirement already satisfied: idna<4,>=2.5 in c:\\users\\a0973\\appdata\\local\\packages\\pythonsoftwarefoundation.python.3.12_qbz5n2kfra8p0\\localcache\\local-packages\\python312\\site-packages (from requests>=2.21.0->azure-core<2.0.0,>=1.24.0->azure-ai-textanalytics==5.3.0) (3.6)\n",
      "Requirement already satisfied: urllib3<3,>=1.21.1 in c:\\users\\a0973\\appdata\\local\\packages\\pythonsoftwarefoundation.python.3.12_qbz5n2kfra8p0\\localcache\\local-packages\\python312\\site-packages (from requests>=2.21.0->azure-core<2.0.0,>=1.24.0->azure-ai-textanalytics==5.3.0) (2.2.2)\n",
      "Requirement already satisfied: certifi>=2017.4.17 in c:\\users\\a0973\\appdata\\local\\packages\\pythonsoftwarefoundation.python.3.12_qbz5n2kfra8p0\\localcache\\local-packages\\python312\\site-packages (from requests>=2.21.0->azure-core<2.0.0,>=1.24.0->azure-ai-textanalytics==5.3.0) (2023.11.17)\n"
     ]
    }
   ],
   "source": [
    "!pip install azure-ai-textanalytics==5.3.0\n",
    "from azure.core.credentials import AzureKeyCredential\n",
    "from azure.ai.textanalytics import TextAnalyticsClient\n",
    "\n",
    "text_analysis_client = TextAnalyticsClient(endpoint=LANGUAGE_AI_ENDPOINT, credential=AzureKeyCredential(LANGUAGE_AI_KEY))"
   ]
  },
  {
   "cell_type": "markdown",
   "id": "8dbe3f7b-879d-41f7-8c5a-b4d9fd8a10bf",
   "metadata": {},
   "source": [
    "Step3. Performing Text Analysis"
   ]
  },
  {
   "cell_type": "code",
   "execution_count": 3,
   "id": "b8e4e043-ec84-4bd3-9339-1a7cf15b33be",
   "metadata": {},
   "outputs": [
    {
     "name": "stdout",
     "output_type": "stream",
     "text": [
      "\n",
      "Language: English\n"
     ]
    }
   ],
   "source": [
    "text = 'Welcome to Microsoft Azure, Markov. Nice to see you!'\n",
    "\n",
    "# detect language\n",
    "res = text_analysis_client.detect_language(documents=[text])[0]\n",
    "print('\\nLanguage: {}'.format(res.primary_language.name))"
   ]
  },
  {
   "cell_type": "code",
   "execution_count": 4,
   "id": "837a1e1c-9a96-4eb1-8bc2-3c9bca368d2a",
   "metadata": {},
   "outputs": [
    {
     "name": "stdout",
     "output_type": "stream",
     "text": [
      "\n",
      "Sentiment: positive\n"
     ]
    }
   ],
   "source": [
    "# evaluate sentiment\n",
    "res = text_analysis_client.analyze_sentiment(documents=[text])[0]\n",
    "print(\"\\nSentiment: {}\".format(res.sentiment))"
   ]
  },
  {
   "cell_type": "code",
   "execution_count": 5,
   "id": "74a2e38b-3e39-4a7d-ad90-c54435ada6ea",
   "metadata": {},
   "outputs": [
    {
     "name": "stdout",
     "output_type": "stream",
     "text": [
      "\n",
      "Key Phrases:\n",
      "\tMicrosoft Azure\n",
      "\tMarkov\n"
     ]
    }
   ],
   "source": [
    "# identify key phrases\n",
    "res = text_analysis_client.extract_key_phrases(documents=[text])[0].key_phrases\n",
    "if len(res) > 0:\n",
    "    print(\"\\nKey Phrases:\")\n",
    "    for phrase in res:\n",
    "        print('\\t{}'.format(phrase))"
   ]
  },
  {
   "cell_type": "code",
   "execution_count": 6,
   "id": "c44afd21-a270-49b3-9ed0-bc03d6d0b1c0",
   "metadata": {},
   "outputs": [
    {
     "name": "stdout",
     "output_type": "stream",
     "text": [
      "\n",
      "Entities\n",
      "\tMicrosoft Azure (Product)\n",
      "\tMarkov (Person)\n"
     ]
    }
   ],
   "source": [
    "# extract entities\n",
    "res = text_analysis_client.recognize_entities(documents=[text])[0].entities\n",
    "if len(res) > 0:\n",
    "    print(\"\\nEntities\")\n",
    "    for entity in res:\n",
    "        print('\\t{} ({})'.format(entity.text, entity.category))"
   ]
  },
  {
   "cell_type": "code",
   "execution_count": 7,
   "id": "83f63b03-a042-4c58-9a9f-1f3e4c42bb90",
   "metadata": {},
   "outputs": [
    {
     "name": "stdout",
     "output_type": "stream",
     "text": [
      "\n",
      "Links\n",
      "\tMicrosoft Azure (https://en.wikipedia.org/wiki/Microsoft_Azure)\n",
      "\tOGC Nice (https://en.wikipedia.org/wiki/OGC_Nice)\n"
     ]
    }
   ],
   "source": [
    "# extract linked entities\n",
    "res = text_analysis_client.recognize_linked_entities(documents=[text])[0].entities\n",
    "if len(res) > 0:\n",
    "    print(\"\\nLinks\")\n",
    "    for linked_entity in res:\n",
    "        print('\\t{} ({})'.format(linked_entity.name, linked_entity.url))"
   ]
  },
  {
   "cell_type": "markdown",
   "id": "e735cb90-29b7-4c8b-a3da-8325cc8c76cf",
   "metadata": {},
   "source": [
    "### Question and Answering"
   ]
  },
  {
   "cell_type": "markdown",
   "id": "215eaf45-1a5b-4bd7-9246-fe701e44c2e6",
   "metadata": {},
   "source": [
    "#### Step1. Build AI Search and create your QnA pairs on [Language Studio](https://language.cognitive.azure.com/home).¶\n",
    "\n",
    "* AI Language ->\n",
    "* Language Studio ->\n",
    "* **Custom question answering** ->\n",
    "* Build an Project named `basic-kb` with **AI Language** and **AI Search** we used.\n",
    "* upload prebuilt QnA pairs (`./assets/basic-kb_qa_pairs.tsv`) to this project.\n",
    "* Deploy this knowledge base.\n",
    "* Click **get prediction URL** and then find the `deploymentName`"
   ]
  },
  {
   "cell_type": "markdown",
   "id": "5e1ad80d-f412-4389-90e7-7ad717c4cf95",
   "metadata": {},
   "source": [
    "#### Step2. Build a Question Answering Client"
   ]
  },
  {
   "cell_type": "code",
   "execution_count": 8,
   "id": "67b54ed4-795f-4ccb-a5c6-5b5cd74a98fb",
   "metadata": {},
   "outputs": [
    {
     "name": "stdout",
     "output_type": "stream",
     "text": [
      "Defaulting to user installation because normal site-packages is not writeable\n",
      "Requirement already satisfied: azure-ai-language-questionanswering in c:\\users\\a0973\\appdata\\local\\packages\\pythonsoftwarefoundation.python.3.12_qbz5n2kfra8p0\\localcache\\local-packages\\python312\\site-packages (1.1.0)\n",
      "Requirement already satisfied: azure-core<2.0.0,>=1.24.0 in c:\\users\\a0973\\appdata\\local\\packages\\pythonsoftwarefoundation.python.3.12_qbz5n2kfra8p0\\localcache\\local-packages\\python312\\site-packages (from azure-ai-language-questionanswering) (1.31.0)\n",
      "Requirement already satisfied: isodate<1.0.0,>=0.6.1 in c:\\users\\a0973\\appdata\\local\\packages\\pythonsoftwarefoundation.python.3.12_qbz5n2kfra8p0\\localcache\\local-packages\\python312\\site-packages (from azure-ai-language-questionanswering) (0.6.1)\n",
      "Requirement already satisfied: requests>=2.21.0 in c:\\users\\a0973\\appdata\\local\\packages\\pythonsoftwarefoundation.python.3.12_qbz5n2kfra8p0\\localcache\\local-packages\\python312\\site-packages (from azure-core<2.0.0,>=1.24.0->azure-ai-language-questionanswering) (2.32.3)\n",
      "Requirement already satisfied: six>=1.11.0 in c:\\users\\a0973\\appdata\\local\\packages\\pythonsoftwarefoundation.python.3.12_qbz5n2kfra8p0\\localcache\\local-packages\\python312\\site-packages (from azure-core<2.0.0,>=1.24.0->azure-ai-language-questionanswering) (1.16.0)\n",
      "Requirement already satisfied: typing-extensions>=4.6.0 in c:\\users\\a0973\\appdata\\local\\packages\\pythonsoftwarefoundation.python.3.12_qbz5n2kfra8p0\\localcache\\local-packages\\python312\\site-packages (from azure-core<2.0.0,>=1.24.0->azure-ai-language-questionanswering) (4.9.0)\n",
      "Requirement already satisfied: charset-normalizer<4,>=2 in c:\\users\\a0973\\appdata\\local\\packages\\pythonsoftwarefoundation.python.3.12_qbz5n2kfra8p0\\localcache\\local-packages\\python312\\site-packages (from requests>=2.21.0->azure-core<2.0.0,>=1.24.0->azure-ai-language-questionanswering) (3.3.2)\n",
      "Requirement already satisfied: idna<4,>=2.5 in c:\\users\\a0973\\appdata\\local\\packages\\pythonsoftwarefoundation.python.3.12_qbz5n2kfra8p0\\localcache\\local-packages\\python312\\site-packages (from requests>=2.21.0->azure-core<2.0.0,>=1.24.0->azure-ai-language-questionanswering) (3.6)\n",
      "Requirement already satisfied: urllib3<3,>=1.21.1 in c:\\users\\a0973\\appdata\\local\\packages\\pythonsoftwarefoundation.python.3.12_qbz5n2kfra8p0\\localcache\\local-packages\\python312\\site-packages (from requests>=2.21.0->azure-core<2.0.0,>=1.24.0->azure-ai-language-questionanswering) (2.2.2)\n",
      "Requirement already satisfied: certifi>=2017.4.17 in c:\\users\\a0973\\appdata\\local\\packages\\pythonsoftwarefoundation.python.3.12_qbz5n2kfra8p0\\localcache\\local-packages\\python312\\site-packages (from requests>=2.21.0->azure-core<2.0.0,>=1.24.0->azure-ai-language-questionanswering) (2023.11.17)\n"
     ]
    }
   ],
   "source": [
    "!pip install azure-ai-language-questionanswering\n",
    "from azure.core.credentials import AzureKeyCredential\n",
    "from azure.ai.language.questionanswering import QuestionAnsweringClient\n",
    "client = QuestionAnsweringClient(endpoint=LANGUAGE_AI_ENDPOINT, credential=AzureKeyCredential(LANGUAGE_AI_KEY))"
   ]
  },
  {
   "cell_type": "markdown",
   "id": "cf161c6c-2ab9-4a94-bee1-6d76ed62eacb",
   "metadata": {},
   "source": [
    "#### Step3. Performing Question Answering"
   ]
  },
  {
   "cell_type": "code",
   "execution_count": 9,
   "id": "402df02e-4924-425b-8093-8ff2a8d48fd7",
   "metadata": {},
   "outputs": [
    {
     "name": "stdout",
     "output_type": "stream",
     "text": [
      "It's possible that QnA Maker can't auto-extract some question-and-answer (QnA) content from valid FAQ URLs. In such cases, you can paste the QnA content in a .txt file and see if the tool can ingest it. Alternately, you can editorially add content to your knowledge base through the [QnA Maker portal](https://qnamaker.ai).\n",
      "Confidence: 1.0\n",
      "Source: https://docs.microsoft.com/azure/cognitive-services/qnamaker/faqs\n"
     ]
    }
   ],
   "source": [
    "user_question = 'Why is my URL(s)/file(s) is not extracting question-answer pairs?'\n",
    "response = client.get_answers(question=user_question,\n",
    "                                project_name='basic-kb',\n",
    "                                deployment_name='production')\n",
    "for candidate in response.answers:\n",
    "    print(candidate.answer)\n",
    "    print(\"Confidence: {}\".format(candidate.confidence))\n",
    "    print(\"Source: {}\".format(candidate.source))"
   ]
  },
  {
   "cell_type": "markdown",
   "id": "3faffc1c-891a-40e5-94ed-6bd2b54ddfa2",
   "metadata": {},
   "source": [
    "### Language Understanding"
   ]
  },
  {
   "cell_type": "markdown",
   "id": "17329b60-3b7b-4b4e-b873-47724bfa9fc7",
   "metadata": {},
   "source": [
    "#### Stpe1. Create your intents examples on [Language Studio](https://language.cognitive.azure.com/home).¶\n",
    "\n",
    "* AI Language ->\n",
    "* Language Studio ->\n",
    "* **Conversational language understanding (Only provided by few region.)** -> \n",
    "* Build an Project named `Clock` with **AI Language** we used.\n",
    "* Add the following utterances for intents:\n",
    "\n",
    "  a. GetTime<br>\n",
    "    ``` \n",
    "    - what's the time    ?\n",
    "    - what time is i    t?\n",
    "    - tell me the t   \n",
    "    ```\n",
    "  b. GetDay<br>\n",
    "    ```\n",
    "    - what day is it?\n",
    "    - what's the day?\n",
    "    - what is the day today?\n",
    "    - what day of the week is it?\n",
    "    ```\n",
    "  c. GetDate<br>\n",
    "    ```\n",
    "    - what date is it?\n",
    "    - what's the date?\n",
    "    - what is the date today?\n",
    "    - what's today's date?\n",
    "    ```\n",
    "* Fine-tune a model for this and Deploy it."
   ]
  },
  {
   "cell_type": "markdown",
   "id": "b28b69ef-8b8e-40e7-8658-9e469802ac0e",
   "metadata": {},
   "source": [
    "#### Step2. Build a Language Understanding Client"
   ]
  },
  {
   "cell_type": "code",
   "execution_count": 10,
   "id": "7762b9dc-91b3-4d52-9976-889de92443fc",
   "metadata": {},
   "outputs": [
    {
     "name": "stdout",
     "output_type": "stream",
     "text": [
      "Defaulting to user installation because normal site-packages is not writeable\n",
      "Requirement already satisfied: azure-ai-language-conversations in c:\\users\\a0973\\appdata\\local\\packages\\pythonsoftwarefoundation.python.3.12_qbz5n2kfra8p0\\localcache\\local-packages\\python312\\site-packages (1.1.0)\n",
      "Requirement already satisfied: azure-core<2.0.0,>=1.24.0 in c:\\users\\a0973\\appdata\\local\\packages\\pythonsoftwarefoundation.python.3.12_qbz5n2kfra8p0\\localcache\\local-packages\\python312\\site-packages (from azure-ai-language-conversations) (1.31.0)\n",
      "Requirement already satisfied: isodate<1.0.0,>=0.6.1 in c:\\users\\a0973\\appdata\\local\\packages\\pythonsoftwarefoundation.python.3.12_qbz5n2kfra8p0\\localcache\\local-packages\\python312\\site-packages (from azure-ai-language-conversations) (0.6.1)\n",
      "Requirement already satisfied: typing-extensions>=4.0.1 in c:\\users\\a0973\\appdata\\local\\packages\\pythonsoftwarefoundation.python.3.12_qbz5n2kfra8p0\\localcache\\local-packages\\python312\\site-packages (from azure-ai-language-conversations) (4.9.0)\n",
      "Requirement already satisfied: requests>=2.21.0 in c:\\users\\a0973\\appdata\\local\\packages\\pythonsoftwarefoundation.python.3.12_qbz5n2kfra8p0\\localcache\\local-packages\\python312\\site-packages (from azure-core<2.0.0,>=1.24.0->azure-ai-language-conversations) (2.32.3)\n",
      "Requirement already satisfied: six>=1.11.0 in c:\\users\\a0973\\appdata\\local\\packages\\pythonsoftwarefoundation.python.3.12_qbz5n2kfra8p0\\localcache\\local-packages\\python312\\site-packages (from azure-core<2.0.0,>=1.24.0->azure-ai-language-conversations) (1.16.0)\n",
      "Requirement already satisfied: charset-normalizer<4,>=2 in c:\\users\\a0973\\appdata\\local\\packages\\pythonsoftwarefoundation.python.3.12_qbz5n2kfra8p0\\localcache\\local-packages\\python312\\site-packages (from requests>=2.21.0->azure-core<2.0.0,>=1.24.0->azure-ai-language-conversations) (3.3.2)\n",
      "Requirement already satisfied: idna<4,>=2.5 in c:\\users\\a0973\\appdata\\local\\packages\\pythonsoftwarefoundation.python.3.12_qbz5n2kfra8p0\\localcache\\local-packages\\python312\\site-packages (from requests>=2.21.0->azure-core<2.0.0,>=1.24.0->azure-ai-language-conversations) (3.6)\n",
      "Requirement already satisfied: urllib3<3,>=1.21.1 in c:\\users\\a0973\\appdata\\local\\packages\\pythonsoftwarefoundation.python.3.12_qbz5n2kfra8p0\\localcache\\local-packages\\python312\\site-packages (from requests>=2.21.0->azure-core<2.0.0,>=1.24.0->azure-ai-language-conversations) (2.2.2)\n",
      "Requirement already satisfied: certifi>=2017.4.17 in c:\\users\\a0973\\appdata\\local\\packages\\pythonsoftwarefoundation.python.3.12_qbz5n2kfra8p0\\localcache\\local-packages\\python312\\site-packages (from requests>=2.21.0->azure-core<2.0.0,>=1.24.0->azure-ai-language-conversations) (2023.11.17)\n"
     ]
    }
   ],
   "source": [
    "!pip install azure-ai-language-conversations\n",
    "from azure.core.credentials import AzureKeyCredential\n",
    "from azure.ai.language.conversations import ConversationAnalysisClient\n",
    "\n",
    "client = ConversationAnalysisClient(endpoint=LANGUAGE_AI_ENDPOINT, credential=AzureKeyCredential(LANGUAGE_AI_KEY))"
   ]
  },
  {
   "cell_type": "code",
   "execution_count": 11,
   "id": "9a23b024-183f-4e2c-98b0-391e14dc81ff",
   "metadata": {},
   "outputs": [
    {
     "name": "stdout",
     "output_type": "stream",
     "text": [
      "ttop intent: GetDate\n",
      "tcategory: GetDate\n",
      "tconfidence score: 0.95870745\n",
      "\n"
     ]
    }
   ],
   "source": [
    "query = \"What's the date and day today?\"\n",
    "\n",
    "result = client.analyze_conversation(\n",
    "    task={\"kind\": \"Conversation\",\n",
    "          \"analysisInput\": {\n",
    "              \"conversationItem\": {\"participantId\": \"1\", \"id\": \"1\", \"modality\": \"text\", \"language\": \"en\", \"text\": query},\n",
    "          \"isLoggingEnabled\": False\n",
    "        },\n",
    "        \"parameters\": {\"projectName\": 'Clock', \"deploymentName\": 'Clock', \"verbose\": True}\n",
    "         }\n",
    ")\n",
    "print(\"ttop intent: {}\".format(result[\"result\"][\"prediction\"][\"topIntent\"]))\n",
    "print(\"tcategory: {}\".format(result[\"result\"][\"prediction\"][\"intents\"][0][\"category\"]))\n",
    "print(\"tconfidence score: {}\\n\".format(result[\"result\"][\"prediction\"][\"intents\"][0][\"confidenceScore\"]))"
   ]
  },
  {
   "cell_type": "markdown",
   "id": "b14d8f09-39a8-4832-91ce-456355cc4774",
   "metadata": {},
   "source": [
    "### Extract Entities (*Group admin is required)"
   ]
  },
  {
   "cell_type": "markdown",
   "id": "20843d47-dd3d-4d46-8ef3-be4c3a0223e1",
   "metadata": {},
   "source": [
    "#### Stpe1. Create your entities on [Language Studio](https://language.cognitive.azure.com/home).¶"
   ]
  },
  {
   "cell_type": "code",
   "execution_count": null,
   "id": "10c75bcd-1d73-49f6-bfc1-92a11622ce6c",
   "metadata": {},
   "outputs": [],
   "source": []
  },
  {
   "cell_type": "markdown",
   "id": "ca7aec21-e93d-4912-924a-970d305ebda1",
   "metadata": {},
   "source": [
    "#### Step2. Build a Language Understanding Client"
   ]
  },
  {
   "cell_type": "code",
   "execution_count": 12,
   "id": "9ad79b43-f0c7-49a0-a1c9-152ebbad86c7",
   "metadata": {},
   "outputs": [
    {
     "name": "stdout",
     "output_type": "stream",
     "text": [
      "Defaulting to user installation because normal site-packages is not writeable\n",
      "Requirement already satisfied: azure-ai-textanalytics==5.3.0 in c:\\users\\a0973\\appdata\\local\\packages\\pythonsoftwarefoundation.python.3.12_qbz5n2kfra8p0\\localcache\\local-packages\\python312\\site-packages (5.3.0)\n",
      "Requirement already satisfied: azure-core<2.0.0,>=1.24.0 in c:\\users\\a0973\\appdata\\local\\packages\\pythonsoftwarefoundation.python.3.12_qbz5n2kfra8p0\\localcache\\local-packages\\python312\\site-packages (from azure-ai-textanalytics==5.3.0) (1.31.0)\n",
      "Requirement already satisfied: azure-common~=1.1 in c:\\users\\a0973\\appdata\\local\\packages\\pythonsoftwarefoundation.python.3.12_qbz5n2kfra8p0\\localcache\\local-packages\\python312\\site-packages (from azure-ai-textanalytics==5.3.0) (1.1.28)\n",
      "Requirement already satisfied: isodate<1.0.0,>=0.6.1 in c:\\users\\a0973\\appdata\\local\\packages\\pythonsoftwarefoundation.python.3.12_qbz5n2kfra8p0\\localcache\\local-packages\\python312\\site-packages (from azure-ai-textanalytics==5.3.0) (0.6.1)\n",
      "Requirement already satisfied: typing-extensions>=4.0.1 in c:\\users\\a0973\\appdata\\local\\packages\\pythonsoftwarefoundation.python.3.12_qbz5n2kfra8p0\\localcache\\local-packages\\python312\\site-packages (from azure-ai-textanalytics==5.3.0) (4.9.0)\n",
      "Requirement already satisfied: requests>=2.21.0 in c:\\users\\a0973\\appdata\\local\\packages\\pythonsoftwarefoundation.python.3.12_qbz5n2kfra8p0\\localcache\\local-packages\\python312\\site-packages (from azure-core<2.0.0,>=1.24.0->azure-ai-textanalytics==5.3.0) (2.32.3)\n",
      "Requirement already satisfied: six>=1.11.0 in c:\\users\\a0973\\appdata\\local\\packages\\pythonsoftwarefoundation.python.3.12_qbz5n2kfra8p0\\localcache\\local-packages\\python312\\site-packages (from azure-core<2.0.0,>=1.24.0->azure-ai-textanalytics==5.3.0) (1.16.0)\n",
      "Requirement already satisfied: charset-normalizer<4,>=2 in c:\\users\\a0973\\appdata\\local\\packages\\pythonsoftwarefoundation.python.3.12_qbz5n2kfra8p0\\localcache\\local-packages\\python312\\site-packages (from requests>=2.21.0->azure-core<2.0.0,>=1.24.0->azure-ai-textanalytics==5.3.0) (3.3.2)\n",
      "Requirement already satisfied: idna<4,>=2.5 in c:\\users\\a0973\\appdata\\local\\packages\\pythonsoftwarefoundation.python.3.12_qbz5n2kfra8p0\\localcache\\local-packages\\python312\\site-packages (from requests>=2.21.0->azure-core<2.0.0,>=1.24.0->azure-ai-textanalytics==5.3.0) (3.6)\n",
      "Requirement already satisfied: urllib3<3,>=1.21.1 in c:\\users\\a0973\\appdata\\local\\packages\\pythonsoftwarefoundation.python.3.12_qbz5n2kfra8p0\\localcache\\local-packages\\python312\\site-packages (from requests>=2.21.0->azure-core<2.0.0,>=1.24.0->azure-ai-textanalytics==5.3.0) (2.2.2)\n",
      "Requirement already satisfied: certifi>=2017.4.17 in c:\\users\\a0973\\appdata\\local\\packages\\pythonsoftwarefoundation.python.3.12_qbz5n2kfra8p0\\localcache\\local-packages\\python312\\site-packages (from requests>=2.21.0->azure-core<2.0.0,>=1.24.0->azure-ai-textanalytics==5.3.0) (2023.11.17)\n"
     ]
    }
   ],
   "source": [
    "!pip install azure-ai-textanalytics==5.3.0\n",
    "from azure.core.credentials import AzureKeyCredential\n",
    "from azure.ai.textanalytics import TextAnalyticsClient\n",
    "\n",
    "client = TextAnalyticsClient(endpoint=LANGUAGE_AI_ENDPOINT, credential=AzureKeyCredential(LANGUAGE_AI_KEY))"
   ]
  },
  {
   "cell_type": "markdown",
   "id": "dbf8f61a-3b03-4b25-8fa1-c07bb6d67fce",
   "metadata": {},
   "source": [
    "### Audio-to-Text & Text-to-Audio"
   ]
  },
  {
   "cell_type": "markdown",
   "id": "64863122-1b4b-4eab-b84d-56bbb22c8cc1",
   "metadata": {},
   "source": [
    "#### Step1. Build **AI Speech** and get the API Keys and Endpoint of it from Azure portal."
   ]
  },
  {
   "cell_type": "code",
   "execution_count": 13,
   "id": "51c642e3-2782-4f64-ba17-487323176f61",
   "metadata": {},
   "outputs": [],
   "source": [
    "SPPECH_AI_KEY = 'e60a931a1fe7463b8528229a1a5d268a'\n",
    "SPEECH_AI_REGION = 'westus'"
   ]
  },
  {
   "cell_type": "markdown",
   "id": "54625ac4-bc9f-42cd-b495-441b2af9bbb2",
   "metadata": {},
   "source": [
    "#### Step2. Create an Speech Client"
   ]
  },
  {
   "cell_type": "code",
   "execution_count": 21,
   "id": "0d0dc550-4a90-4231-842f-b2fc35023d73",
   "metadata": {
    "scrolled": true
   },
   "outputs": [
    {
     "name": "stdout",
     "output_type": "stream",
     "text": [
      "Defaulting to user installation because normal site-packages is not writeable\n",
      "Requirement already satisfied: azure-cognitiveservices-speech==1.30.0 in c:\\users\\a0973\\appdata\\local\\packages\\pythonsoftwarefoundation.python.3.12_qbz5n2kfra8p0\\localcache\\local-packages\\python312\\site-packages (1.30.0)\n"
     ]
    }
   ],
   "source": [
    "!pip install azure-cognitiveservices-speech==1.30.0\n",
    "import azure.cognitiveservices.speech as speech_sdk\n",
    "\n",
    "audio_config = speech_sdk.AudioConfig(use_default_microphone=True)\n",
    "speech_config = speech_sdk.SpeechConfig(SPPECH_AI_KEY, SPEECH_AI_REGION)\n",
    "speech_config.speech_synthesis_voice_name = \"en-GB-RyanNeural\"\n",
    "\n",
    "recorder = speech_sdk.SpeechRecognizer(speech_config, audio_config)\n",
    "synthesizer = speech_sdk.SpeechSynthesizer(speech_config)"
   ]
  },
  {
   "cell_type": "markdown",
   "id": "f8e1ac0e-62c0-459e-b8cc-7f080603703c",
   "metadata": {},
   "source": [
    "#### Step3. Performing Audio-to-Text by Microphone"
   ]
  },
  {
   "cell_type": "code",
   "execution_count": 22,
   "id": "043ab3d4-e1e7-4d93-86c4-8dd5739f66f5",
   "metadata": {},
   "outputs": [
    {
     "name": "stdin",
     "output_type": "stream",
     "text": [
      "Press 'Enter' to Start Recording...(ask some question about basic-kb.tsv) \n"
     ]
    },
    {
     "name": "stdout",
     "output_type": "stream",
     "text": [
      "Response: What time is it?\n"
     ]
    }
   ],
   "source": [
    "input(\"Press 'Enter' to Start Recording...(ask some question about basic-kb.tsv)\")\n",
    "response = recorder.recognize_once_async().get().text\n",
    "print('Response:', response)"
   ]
  },
  {
   "cell_type": "markdown",
   "id": "bbe5c59a-57d9-49e2-9e50-84cd0ea42e23",
   "metadata": {},
   "source": [
    "#### Step4. Performing Text-to-Audio"
   ]
  },
  {
   "cell_type": "code",
   "execution_count": 23,
   "id": "90bd7c82-b806-4a5e-921f-8e3223a17f6c",
   "metadata": {},
   "outputs": [
    {
     "data": {
      "text/plain": [
       "<azure.cognitiveservices.speech.SpeechSynthesisResult at 0x25acb2dff50>"
      ]
     },
     "execution_count": 23,
     "metadata": {},
     "output_type": "execute_result"
    }
   ],
   "source": [
    "synthesizer.speak_text_async(response).get()"
   ]
  }
 ],
 "metadata": {
  "kernelspec": {
   "display_name": "Python 3 (ipykernel)",
   "language": "python",
   "name": "python3"
  },
  "language_info": {
   "codemirror_mode": {
    "name": "ipython",
    "version": 3
   },
   "file_extension": ".py",
   "mimetype": "text/x-python",
   "name": "python",
   "nbconvert_exporter": "python",
   "pygments_lexer": "ipython3",
   "version": "3.12.7"
  }
 },
 "nbformat": 4,
 "nbformat_minor": 5
}
