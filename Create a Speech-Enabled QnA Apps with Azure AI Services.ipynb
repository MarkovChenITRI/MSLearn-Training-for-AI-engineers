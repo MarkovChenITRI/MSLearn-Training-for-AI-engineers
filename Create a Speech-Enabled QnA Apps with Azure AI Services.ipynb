{
 "cells": [
  {
   "cell_type": "markdown",
   "id": "a90803a0-d1fd-49f4-a10d-1a6f5413b1a6",
   "metadata": {},
   "source": [
    "# Create a Speech-Enabled Apps with Azure AI Services"
   ]
  },
  {
   "cell_type": "markdown",
   "id": "756d92e6-e727-40b3-83f2-03fc918ec55b",
   "metadata": {},
   "source": [
    "### Build **AI Language** and  **AI Speech** Services on Azure Portal.\n",
    "\n",
    "#### Step1. Create your own **AI Language** and  **AI Speech** Services to get the API KeyS and Endpoint."
   ]
  },
  {
   "cell_type": "code",
   "execution_count": 18,
   "id": "4534dcde-0ed1-4cd6-bebc-6d6f4f67285c",
   "metadata": {},
   "outputs": [],
   "source": [
    "QUESTION_ANSWERING_AI_KEY = '9251d385e873424abe9af031d509902a'\n",
    "QUESTION_ANSWERING_AI_ENDPOINT = 'https://ces-language-service.cognitiveservices.azure.com/'\n",
    "\n",
    "SPPECH_AI_KEY = 'a88d5c63922449d880e33ea4feb7f8c8'\n",
    "SPEECH_AI_REGION = 'eastus2'"
   ]
  },
  {
   "cell_type": "markdown",
   "id": "ecbb8b55-3edf-433e-99fa-b4879306776e",
   "metadata": {},
   "source": [
    "#### Step2. Install Azure AI Python SDK for **AI Speech** and **AI Language**."
   ]
  },
  {
   "cell_type": "code",
   "execution_count": 19,
   "id": "0d0dc550-4a90-4231-842f-b2fc35023d73",
   "metadata": {},
   "outputs": [
    {
     "name": "stdout",
     "output_type": "stream",
     "text": [
      "Defaulting to user installation because normal site-packages is not writeable\n",
      "Requirement already satisfied: azure-ai-language-questionanswering in c:\\users\\a0973\\appdata\\local\\packages\\pythonsoftwarefoundation.python.3.12_qbz5n2kfra8p0\\localcache\\local-packages\\python312\\site-packages (1.1.0)\n",
      "Requirement already satisfied: azure-core<2.0.0,>=1.24.0 in c:\\users\\a0973\\appdata\\local\\packages\\pythonsoftwarefoundation.python.3.12_qbz5n2kfra8p0\\localcache\\local-packages\\python312\\site-packages (from azure-ai-language-questionanswering) (1.31.0)\n",
      "Requirement already satisfied: isodate<1.0.0,>=0.6.1 in c:\\users\\a0973\\appdata\\local\\packages\\pythonsoftwarefoundation.python.3.12_qbz5n2kfra8p0\\localcache\\local-packages\\python312\\site-packages (from azure-ai-language-questionanswering) (0.6.1)\n",
      "Requirement already satisfied: requests>=2.21.0 in c:\\users\\a0973\\appdata\\local\\packages\\pythonsoftwarefoundation.python.3.12_qbz5n2kfra8p0\\localcache\\local-packages\\python312\\site-packages (from azure-core<2.0.0,>=1.24.0->azure-ai-language-questionanswering) (2.32.3)\n",
      "Requirement already satisfied: six>=1.11.0 in c:\\users\\a0973\\appdata\\local\\packages\\pythonsoftwarefoundation.python.3.12_qbz5n2kfra8p0\\localcache\\local-packages\\python312\\site-packages (from azure-core<2.0.0,>=1.24.0->azure-ai-language-questionanswering) (1.16.0)\n",
      "Requirement already satisfied: typing-extensions>=4.6.0 in c:\\users\\a0973\\appdata\\local\\packages\\pythonsoftwarefoundation.python.3.12_qbz5n2kfra8p0\\localcache\\local-packages\\python312\\site-packages (from azure-core<2.0.0,>=1.24.0->azure-ai-language-questionanswering) (4.9.0)\n",
      "Requirement already satisfied: charset-normalizer<4,>=2 in c:\\users\\a0973\\appdata\\local\\packages\\pythonsoftwarefoundation.python.3.12_qbz5n2kfra8p0\\localcache\\local-packages\\python312\\site-packages (from requests>=2.21.0->azure-core<2.0.0,>=1.24.0->azure-ai-language-questionanswering) (3.3.2)\n",
      "Requirement already satisfied: idna<4,>=2.5 in c:\\users\\a0973\\appdata\\local\\packages\\pythonsoftwarefoundation.python.3.12_qbz5n2kfra8p0\\localcache\\local-packages\\python312\\site-packages (from requests>=2.21.0->azure-core<2.0.0,>=1.24.0->azure-ai-language-questionanswering) (3.6)\n",
      "Requirement already satisfied: urllib3<3,>=1.21.1 in c:\\users\\a0973\\appdata\\local\\packages\\pythonsoftwarefoundation.python.3.12_qbz5n2kfra8p0\\localcache\\local-packages\\python312\\site-packages (from requests>=2.21.0->azure-core<2.0.0,>=1.24.0->azure-ai-language-questionanswering) (2.2.2)\n",
      "Requirement already satisfied: certifi>=2017.4.17 in c:\\users\\a0973\\appdata\\local\\packages\\pythonsoftwarefoundation.python.3.12_qbz5n2kfra8p0\\localcache\\local-packages\\python312\\site-packages (from requests>=2.21.0->azure-core<2.0.0,>=1.24.0->azure-ai-language-questionanswering) (2023.11.17)\n",
      "Defaulting to user installation because normal site-packages is not writeable\n",
      "Requirement already satisfied: azure-cognitiveservices-speech==1.30.0 in c:\\users\\a0973\\appdata\\local\\packages\\pythonsoftwarefoundation.python.3.12_qbz5n2kfra8p0\\localcache\\local-packages\\python312\\site-packages (1.30.0)\n",
      "Defaulting to user installation because normal site-packages is not writeable\n",
      "Requirement already satisfied: playsound==1.2.2 in c:\\users\\a0973\\appdata\\local\\packages\\pythonsoftwarefoundation.python.3.12_qbz5n2kfra8p0\\localcache\\local-packages\\python312\\site-packages (1.2.2)\n"
     ]
    }
   ],
   "source": [
    "!pip install azure-ai-language-questionanswering\n",
    "!pip install azure-cognitiveservices-speech==1.30.0\n",
    "!pip install playsound==1.2.2"
   ]
  },
  {
   "cell_type": "markdown",
   "id": "54625ac4-bc9f-42cd-b495-441b2af9bbb2",
   "metadata": {},
   "source": [
    "#### Step3. Create an Speech Client driven by Audio File"
   ]
  },
  {
   "cell_type": "code",
   "execution_count": 20,
   "id": "3cee46bb-a19a-46f9-b019-1383e96ee777",
   "metadata": {},
   "outputs": [],
   "source": [
    "import os\n",
    "import azure.cognitiveservices.speech as speech_sdk\n",
    "\n",
    "audio_path = os.getcwd() + '\\\\assets\\\\time.wav'\n",
    "audio_config = speech_sdk.AudioConfig(filename=audio_path)\n",
    "\n",
    "speech_client = speech_sdk.SpeechRecognizer(speech_sdk.SpeechConfig(SPPECH_AI_KEY, SPEECH_AI_REGION), audio_config)"
   ]
  },
  {
   "cell_type": "markdown",
   "id": "fc44ce32-3292-470f-b131-7844304d0624",
   "metadata": {},
   "source": [
    "#### Step4. Perform a Demonstration of its Functionality."
   ]
  },
  {
   "cell_type": "code",
   "execution_count": 21,
   "id": "29882616-9a46-489c-ae7f-985ce91f1aac",
   "metadata": {},
   "outputs": [
    {
     "name": "stdout",
     "output_type": "stream",
     "text": [
      "Response: What time is it?\n"
     ]
    }
   ],
   "source": [
    "from playsound import playsound\n",
    "response = speech_client.recognize_once_async().get().text\n",
    "print('Response:', response)\n",
    "\n",
    "# Play the original audio\n",
    "playsound(audio_path)"
   ]
  },
  {
   "cell_type": "markdown",
   "id": "840a91ef-f6b0-4a59-b9df-b28fde7ca980",
   "metadata": {},
   "source": [
    "### Combine with QnA Service built with `./assets/basic-kb.tsv` Dataset."
   ]
  },
  {
   "cell_type": "markdown",
   "id": "2f13b5d5-45bf-4ad5-b12d-8e48ffa95661",
   "metadata": {},
   "source": [
    "#### Step1. Create an Question Answering Client"
   ]
  },
  {
   "cell_type": "code",
   "execution_count": 27,
   "id": "a149c5b1-5b6c-49d0-b42d-706b379323aa",
   "metadata": {},
   "outputs": [],
   "source": [
    "from azure.core.credentials import AzureKeyCredential\n",
    "from azure.ai.language.questionanswering import QuestionAnsweringClient\n",
    "\n",
    "credential = AzureKeyCredential(QUESTION_ANSWERING_AI_KEY)\n",
    "qna_client = QuestionAnsweringClient(endpoint=QUESTION_ANSWERING_AI_ENDPOINT, credential=credential)"
   ]
  },
  {
   "cell_type": "markdown",
   "id": "350f8c2d-42f4-471c-aac0-22b3243fc327",
   "metadata": {},
   "source": [
    "#### Step2. Create an Question Answering Client driven by Microphone"
   ]
  },
  {
   "cell_type": "code",
   "execution_count": 28,
   "id": "88cedb94-ba46-4337-9821-066dad269074",
   "metadata": {},
   "outputs": [],
   "source": [
    "audio_config = speech_sdk.AudioConfig(use_default_microphone=True)\n",
    "speech_client = speech_sdk.SpeechRecognizer(speech_sdk.SpeechConfig(SPPECH_AI_KEY, SPEECH_AI_REGION), audio_config)"
   ]
  },
  {
   "cell_type": "markdown",
   "id": "09e31b3f-6d24-407d-a263-34db5616c936",
   "metadata": {},
   "source": [
    "#### Step3. Start to Asking Question with Speech Client"
   ]
  },
  {
   "cell_type": "code",
   "execution_count": 29,
   "id": "4ef0febf-62cc-4d8a-ac29-e94aaa337565",
   "metadata": {},
   "outputs": [
    {
     "name": "stdin",
     "output_type": "stream",
     "text": [
      "Press 'Enter' to Start Recording...(ask some question about basic-kb.tsv) \n"
     ]
    },
    {
     "name": "stdout",
     "output_type": "stream",
     "text": [
      "Response: Why my URL is not extracting question answering pairs?\n"
     ]
    }
   ],
   "source": [
    "input(\"Press 'Enter' to Start Recording...(ask some question about basic-kb.tsv)\")\n",
    "response = speech_client.recognize_once_async().get().text\n",
    "print('Response:', response)"
   ]
  },
  {
   "cell_type": "markdown",
   "id": "210c196f-b8f7-49a3-9b1c-2b12d525eb6a",
   "metadata": {},
   "source": [
    "#### Step4. Generating Text Answer via QnA Clinet with Prebuilt Knowledge Base"
   ]
  },
  {
   "cell_type": "code",
   "execution_count": 33,
   "id": "c14d2e8b-f466-41bc-a95f-4daf4dd377e0",
   "metadata": {},
   "outputs": [
    {
     "name": "stdout",
     "output_type": "stream",
     "text": [
      "See more details about [supported languages](https://docs.microsoft.com/azure/cognitive-services/qnamaker/overview/languages-supported).\n",
      "\n",
      "If you have content from multiple languages, be sure to create a separate service for each language.\n",
      "- Confidence: 0.0679\n",
      "- Source: https://docs.microsoft.com/azure/cognitive-services/qnamaker/faqs\n"
     ]
    }
   ],
   "source": [
    "response = qna_client.get_answers(question=response,\n",
    "                                    project_name='QA',\n",
    "                                    deployment_name='production')\n",
    "for candidate in response.answers:\n",
    "    print(candidate.answer)\n",
    "    print(\"- Confidence: {}\".format(candidate.confidence))\n",
    "    print(\"- Source: {}\".format(candidate.source))"
   ]
  },
  {
   "cell_type": "markdown",
   "id": "b6a5fc42-c60f-42c6-97b8-4f12459c3033",
   "metadata": {},
   "source": [
    "#### Step5. Synthesize Sound for Response Text via Speech Client"
   ]
  },
  {
   "cell_type": "code",
   "execution_count": 34,
   "id": "2d857d43-5a8a-4d2f-bed3-f0880ff23d39",
   "metadata": {},
   "outputs": [
    {
     "data": {
      "text/plain": [
       "<azure.cognitiveservices.speech.SpeechSynthesisResult at 0x18967c48590>"
      ]
     },
     "execution_count": 34,
     "metadata": {},
     "output_type": "execute_result"
    }
   ],
   "source": [
    "speech_config.speech_synthesis_voice_name = \"en-GB-RyanNeural\"\n",
    "speech_synthesizer = speech_sdk.SpeechSynthesizer(speech_config)\n",
    "\n",
    "speech_synthesizer.speak_text_async(candidate.answer).get()"
   ]
  },
  {
   "cell_type": "code",
   "execution_count": null,
   "id": "903f1a2d-5617-499d-99f8-e0d9897d6d70",
   "metadata": {},
   "outputs": [],
   "source": []
  }
 ],
 "metadata": {
  "kernelspec": {
   "display_name": "Python 3 (ipykernel)",
   "language": "python",
   "name": "python3"
  },
  "language_info": {
   "codemirror_mode": {
    "name": "ipython",
    "version": 3
   },
   "file_extension": ".py",
   "mimetype": "text/x-python",
   "name": "python",
   "nbconvert_exporter": "python",
   "pygments_lexer": "ipython3",
   "version": "3.12.7"
  }
 },
 "nbformat": 4,
 "nbformat_minor": 5
}
